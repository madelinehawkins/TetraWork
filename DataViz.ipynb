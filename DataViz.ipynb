{
 "cells": [
  {
   "cell_type": "code",
   "execution_count": 3,
   "metadata": {},
   "outputs": [
    {
     "name": "stdout",
     "output_type": "stream",
     "text": [
      "NC_002607.1 Halobacterium sp. NRC-1, complete genome\n",
      "NC_001869.1 Halobacterium sp. NRC-1 plasmid pNRC100, complete sequence\n",
      "NC_002608.1 Halobacterium sp. NRC-1 plasmid pNRC200 complete genome\n"
     ]
    },
    {
     "data": {
      "image/png": "[encoded data removed]",
      "text/plain": [
       "<Figure size 432x288 with 1 Axes>"
      ]
     },
     "metadata": {},
     "output_type": "display_data"
    }
   ],
   "source": [
    "from utils import FastAreader\n",
    "from itertools import product\n",
    "import matplotlib.pyplot as plt\n",
    "\n",
    "myReader = FastAreader(\"Halobacterium-NRC1.fa\")\n",
    "tetraComp = {''.join(p): 0 for p in product('ACGT', repeat=4)}\n",
    "\n",
    "def produceTetras(seq):\n",
    "    for i in range(0, len(seq)):\n",
    "        yield seq[i:i + 4]\n",
    "\n",
    "def tetraAdd(tetra): \n",
    "    if len(tetra) == 4: \n",
    "        tetraComp[tetra] += 1 \n",
    "\n",
    "for head, seq in myReader.readFasta(): \n",
    "    print(head)\n",
    "    test = produceTetras(seq)\n",
    "    while test:\n",
    "        try:\n",
    "            tetraAdd(next(test)) \n",
    "        except StopIteration:\n",
    "            break\n",
    "\n",
    "width = 1.0\n",
    "plt.bar(tetraComp.keys(), tetraComp.values(), width, color='g')\n",
    "plt.show()\n",
    "    "
   ]
  },
  {
   "cell_type": "code",
   "execution_count": 33,
   "metadata": {},
   "outputs": [
    {
     "name": "stdout",
     "output_type": "stream",
     "text": [
      "NC_017459.1 Haloquadratum walsbyi C23 complete genome\n",
      "NC_017457.1 Haloquadratum walsbyi C23 plasmid PL100 complete genome\n",
      "NC_017460.1 Haloquadratum walsbyi C23 plasmid PL6A, complete genome\n",
      "NC_017458.1 Haloquadratum walsbyi C23 plasmid PL6B, complete genome\n"
     ]
    }
   ],
   "source": [
    "myReader = FastAreader(\"Haloquadratum-walsbyi.fa\")\n",
    "\n",
    "for head, seq in myReader.readFasta(): \n",
    "    print(head)"
   ]
  },
  {
   "cell_type": "code",
   "execution_count": 7,
   "metadata": {},
   "outputs": [
    {
     "name": "stdout",
     "output_type": "stream",
     "text": [
      "NC_013967.1 Haloferax volcanii DS2, complete genome\n"
     ]
    }
   ],
   "source": [
    "myReader = FastAreader(\"Haloferax-volcanii.fa\")\n",
    "\n",
    "for head, seq in myReader.readFasta(): \n",
    "    print(head)"
   ]
  },
  {
   "cell_type": "code",
   "execution_count": 9,
   "metadata": {},
   "outputs": [
    {
     "name": "stdout",
     "output_type": "stream",
     "text": [
      "gi|284163295|ref|NC_013743.1| Haloterrigena turkmenica DSM 5511, complete genome\n",
      "gi|257386085|ref|NC_013202.1| Halomicrobium mukohataei DSM 12286, complete genome\n",
      "gi|292654178|ref|NC_013967.1| Haloferax volcanii DS2 chromosome, complete genome\n",
      "gi|55376942|ref|NC_006396.1| Haloarcula marismortui ATCC 43049 chromosome chromosome I, complete sequence\n",
      "gi|169235049|ref|NC_010364.1| Halobacterium salinarum R1, complete genome\n",
      "gi|110666976|ref|NC_008212.1| Haloquadratum walsbyi DSM 16790, complete genome\n",
      "gi|76800655|ref|NC_007426.1| Natronomonas pharaonis DSM 2160, complete genome\n",
      "gi|222451341|gb|CP001365.1| Halorubrum lacusprofundi ATCC 49239 chromosome 1, complete sequence\n",
      "gi|12057215|gb|AE004437.1| Halobacterium sp. NRC-1, complete genome\n",
      "gi|313124788|ref|NC_014729.1| Halogeometricum borinquense DSM 11551 chromosome, complete genome\n",
      "gi|257051090|ref|NC_013158.1| Halorhabdus utahensis DSM 12940 chromosome, complete genome\n",
      "gi|300709370|ref|NC_014297.1| Halalkalicoccus jeotgali B3 chromosome, complete genome\n",
      "gi|289579696|ref|NC_013922.1| Natrialba magadii ATCC 43099 chromosome, complete genome\n"
     ]
    }
   ],
   "source": [
    "myReader = FastAreader(\"Haloterrigena-turkmenica.fa\")\n",
    "\n",
    "for head, seq in myReader.readFasta(): \n",
    "    print(head)"
   ]
  },
  {
   "cell_type": "code",
   "execution_count": 10,
   "metadata": {},
   "outputs": [
    {
     "name": "stdout",
     "output_type": "stream",
     "text": [
      "NC_007677.1 Salinibacter ruber DSM 13855 chromosome, complete genome\n",
      "NC_007678.1 Salinibacter ruber DSM 13855 plasmid pSR35, complete sequence\n"
     ]
    }
   ],
   "source": [
    "myReader = FastAreader(\"Salinibacter-ruber.fa\")\n",
    "\n",
    "for head, seq in myReader.readFasta(): \n",
    "    print(head)"
   ]
  },
  {
   "cell_type": "code",
   "execution_count": null,
   "metadata": {},
   "outputs": [],
   "source": []
  }
 ],
 "metadata": {
  "kernelspec": {
   "display_name": "Python 3",
   "language": "python",
   "name": "python3"
  },
  "language_info": {
   "codemirror_mode": {
    "name": "ipython",
    "version": 3
   },
   "file_extension": ".py",
   "mimetype": "text/x-python",
   "name": "python",
   "nbconvert_exporter": "python",
   "pygments_lexer": "ipython3",
   "version": "3.6.4"
  }
 },
 "nbformat": 4,
 "nbformat_minor": 2
}
